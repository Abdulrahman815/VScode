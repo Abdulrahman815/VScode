{
 "cells": [
  {
   "cell_type": "code",
   "execution_count": 1,
   "id": "93249ec4",
   "metadata": {},
   "outputs": [],
   "source": [
    "import numpy as np\n",
    "import math"
   ]
  },
  {
   "cell_type": "code",
   "execution_count": 2,
   "id": "009fe4d5",
   "metadata": {},
   "outputs": [
    {
     "data": {
      "text/plain": [
       "array([ 1, -2])"
      ]
     },
     "execution_count": 2,
     "metadata": {},
     "output_type": "execute_result"
    }
   ],
   "source": [
    "#1.a\n",
    "np.array([1,-2])"
   ]
  },
  {
   "cell_type": "code",
   "execution_count": 3,
   "id": "9c4877f1",
   "metadata": {},
   "outputs": [
    {
     "data": {
      "text/plain": [
       "array([[-3],\n",
       "       [ 5],\n",
       "       [-7]])"
      ]
     },
     "execution_count": 3,
     "metadata": {},
     "output_type": "execute_result"
    }
   ],
   "source": [
    "# 1.b\n",
    "np.array([-3,5,-7]).reshape(-1,1)"
   ]
  },
  {
   "cell_type": "code",
   "execution_count": 4,
   "id": "f4ce8603",
   "metadata": {},
   "outputs": [],
   "source": [
    "u = np.array([-1,2,9])\n",
    "v = np.array([3,-1,5])"
   ]
  },
  {
   "cell_type": "code",
   "execution_count": 5,
   "id": "a1a7840d",
   "metadata": {},
   "outputs": [
    {
     "data": {
      "text/plain": [
       "9.273618495495704"
      ]
     },
     "execution_count": 5,
     "metadata": {},
     "output_type": "execute_result"
    }
   ],
   "source": [
    "# 2.a\n",
    "np.linalg.norm(u)"
   ]
  },
  {
   "cell_type": "code",
   "execution_count": 6,
   "id": "738e866c",
   "metadata": {},
   "outputs": [
    {
     "data": {
      "text/plain": [
       "array([ 0.50709255, -0.16903085,  0.84515425])"
      ]
     },
     "execution_count": 6,
     "metadata": {},
     "output_type": "execute_result"
    }
   ],
   "source": [
    "# 2.b\n",
    "mag = np.linalg.norm(v)\n",
    "v/mag"
   ]
  },
  {
   "cell_type": "code",
   "execution_count": 7,
   "id": "710255d7",
   "metadata": {},
   "outputs": [
    {
     "data": {
      "text/plain": [
       "40"
      ]
     },
     "execution_count": 7,
     "metadata": {},
     "output_type": "execute_result"
    }
   ],
   "source": [
    "# 2.c\n",
    "np.dot(u,v)"
   ]
  },
  {
   "cell_type": "code",
   "execution_count": 8,
   "id": "09d13d7a",
   "metadata": {},
   "outputs": [
    {
     "data": {
      "text/plain": [
       "1.0"
      ]
     },
     "execution_count": 8,
     "metadata": {},
     "output_type": "execute_result"
    }
   ],
   "source": [
    "np.linalg.norm(np.eye(1,3))"
   ]
  },
  {
   "cell_type": "code",
   "execution_count": 9,
   "id": "751408d0",
   "metadata": {},
   "outputs": [
    {
     "data": {
      "text/plain": [
       "43.190458397047806"
      ]
     },
     "execution_count": 9,
     "metadata": {},
     "output_type": "execute_result"
    }
   ],
   "source": [
    "# 2.d\n",
    "costheta = np.dot(u,v)/(np.linalg.norm(u)*np.linalg.norm(v))\n",
    "theta = np.arccos(costheta)\n",
    "math.degrees(theta)\n",
    "#----------------------------------------------------------\n",
    "sintheta = np.linalg.norm(np.cross(u,v))/(np.linalg.norm(u)*np.linalg.norm(v)*np.linalg.norm(np.eye(1,3)))\n",
    "theta = np.arcsin(sintheta)\n",
    "math.degrees(theta)\n",
    "\n"
   ]
  },
  {
   "cell_type": "code",
   "execution_count": 10,
   "id": "8a089412",
   "metadata": {},
   "outputs": [
    {
     "data": {
      "text/plain": [
       "array([19, 32, -5])"
      ]
     },
     "execution_count": 10,
     "metadata": {},
     "output_type": "execute_result"
    }
   ],
   "source": [
    "# 2.e\n",
    "cross = np.cross(u,v)\n",
    "cross"
   ]
  },
  {
   "cell_type": "code",
   "execution_count": 11,
   "id": "f3ae82c6",
   "metadata": {},
   "outputs": [
    {
     "data": {
      "text/plain": [
       "array([ 0.50599246,  0.85219783, -0.13315591])"
      ]
     },
     "execution_count": 11,
     "metadata": {},
     "output_type": "execute_result"
    }
   ],
   "source": [
    "# 2.f\n",
    "mag = np.linalg.norm(cross)\n",
    "cross/mag"
   ]
  },
  {
   "cell_type": "code",
   "execution_count": 12,
   "id": "a10e99c8",
   "metadata": {},
   "outputs": [
    {
     "data": {
      "text/plain": [
       "array([ 2,  1, 14])"
      ]
     },
     "execution_count": 12,
     "metadata": {},
     "output_type": "execute_result"
    }
   ],
   "source": [
    "# 2.g\n",
    "u+v"
   ]
  },
  {
   "cell_type": "code",
   "execution_count": 13,
   "id": "9ab4f2cd",
   "metadata": {},
   "outputs": [
    {
     "data": {
      "text/plain": [
       "array([ 4, -3, -4])"
      ]
     },
     "execution_count": 13,
     "metadata": {},
     "output_type": "execute_result"
    }
   ],
   "source": [
    "# 2.h\n",
    "v-u"
   ]
  },
  {
   "cell_type": "code",
   "execution_count": 14,
   "id": "c75ce711",
   "metadata": {},
   "outputs": [],
   "source": [
    "A=np.array([[3,-1,-3],[-5,2,1],[4,4,-6]])\n",
    "B=np.array([[2,-3,1],[4,-5,3],[3,-1,-2]])\n"
   ]
  },
  {
   "cell_type": "code",
   "execution_count": 15,
   "id": "b48d04ec",
   "metadata": {},
   "outputs": [
    {
     "data": {
      "text/plain": [
       "array([[ 5, -4, -2],\n",
       "       [-1, -3,  4],\n",
       "       [ 7,  3, -8]])"
      ]
     },
     "execution_count": 15,
     "metadata": {},
     "output_type": "execute_result"
    }
   ],
   "source": [
    "# 3.a\n",
    "A+B"
   ]
  },
  {
   "cell_type": "code",
   "execution_count": 16,
   "id": "f24e23af",
   "metadata": {},
   "outputs": [
    {
     "data": {
      "text/plain": [
       "array([[ 1,  2, -4],\n",
       "       [-9,  7, -2],\n",
       "       [ 1,  5, -4]])"
      ]
     },
     "execution_count": 16,
     "metadata": {},
     "output_type": "execute_result"
    }
   ],
   "source": [
    "# 3.b\n",
    "A-B"
   ]
  },
  {
   "cell_type": "code",
   "execution_count": 17,
   "id": "e1d45ecc",
   "metadata": {},
   "outputs": [
    {
     "data": {
      "text/plain": [
       "array([[  6,   3,  -3],\n",
       "       [-20, -10,   3],\n",
       "       [ 12,  -4,  12]])"
      ]
     },
     "execution_count": 17,
     "metadata": {},
     "output_type": "execute_result"
    }
   ],
   "source": [
    "# 3.c\n",
    "A*B"
   ]
  },
  {
   "cell_type": "code",
   "execution_count": 18,
   "id": "d822d9eb",
   "metadata": {},
   "outputs": [
    {
     "data": {
      "text/plain": [
       "array([[ -7,  -1,   6],\n",
       "       [  1,   4,  -1],\n",
       "       [  6, -26,  28]])"
      ]
     },
     "execution_count": 18,
     "metadata": {},
     "output_type": "execute_result"
    }
   ],
   "source": [
    "# 3.d\n",
    "A@B"
   ]
  },
  {
   "cell_type": "code",
   "execution_count": 19,
   "id": "ace2da8a",
   "metadata": {},
   "outputs": [
    {
     "data": {
      "text/plain": [
       "array([[ 3, -5,  4],\n",
       "       [-1,  2,  4],\n",
       "       [-3,  1, -6]])"
      ]
     },
     "execution_count": 19,
     "metadata": {},
     "output_type": "execute_result"
    }
   ],
   "source": [
    "# 3.e\n",
    "np.transpose(A)"
   ]
  },
  {
   "cell_type": "code",
   "execution_count": 20,
   "id": "1dcb3fdc",
   "metadata": {},
   "outputs": [
    {
     "data": {
      "text/plain": [
       "62.00000000000001"
      ]
     },
     "execution_count": 20,
     "metadata": {},
     "output_type": "execute_result"
    }
   ],
   "source": [
    "# 3.f\n",
    "np.linalg.det(A)"
   ]
  },
  {
   "cell_type": "code",
   "execution_count": 21,
   "id": "5b820f9f",
   "metadata": {},
   "outputs": [
    {
     "data": {
      "text/plain": [
       "array([[-0.25806452, -0.29032258,  0.08064516],\n",
       "       [-0.41935484, -0.09677419,  0.19354839],\n",
       "       [-0.4516129 , -0.25806452,  0.01612903]])"
      ]
     },
     "execution_count": 21,
     "metadata": {},
     "output_type": "execute_result"
    }
   ],
   "source": [
    "# 3.g\n",
    "np.linalg.inv(A)"
   ]
  },
  {
   "cell_type": "code",
   "execution_count": 22,
   "id": "f33df0ca",
   "metadata": {},
   "outputs": [
    {
     "data": {
      "text/plain": [
       "array([[-16., -18.,   5.],\n",
       "       [-26.,  -6.,  12.],\n",
       "       [-28., -16.,   1.]])"
      ]
     },
     "execution_count": 22,
     "metadata": {},
     "output_type": "execute_result"
    }
   ],
   "source": [
    "# 3.h\n",
    "inv = np.linalg.inv(A)\n",
    "det = np.linalg.det(A)\n",
    "inv*det"
   ]
  },
  {
   "cell_type": "code",
   "execution_count": 23,
   "id": "8321feea",
   "metadata": {},
   "outputs": [
    {
     "data": {
      "text/plain": [
       "array([[-16., -26., -28.],\n",
       "       [-18.,  -6., -16.],\n",
       "       [  5.,  12.,   1.]])"
      ]
     },
     "execution_count": 23,
     "metadata": {},
     "output_type": "execute_result"
    }
   ],
   "source": [
    "# 3.i\n",
    "inv = np.linalg.inv(A)\n",
    "det = np.linalg.det(A)\n",
    "np.transpose(inv*det)"
   ]
  },
  {
   "cell_type": "code",
   "execution_count": 24,
   "id": "bfa5a10a",
   "metadata": {},
   "outputs": [
    {
     "data": {
      "text/plain": [
       "array([[-3,  1,  3],\n",
       "       [ 5, -2, -1],\n",
       "       [-4, -4,  6]])"
      ]
     },
     "execution_count": 24,
     "metadata": {},
     "output_type": "execute_result"
    }
   ],
   "source": [
    "-A"
   ]
  },
  {
   "cell_type": "code",
   "execution_count": 25,
   "id": "1577c710",
   "metadata": {},
   "outputs": [
    {
     "name": "stdout",
     "output_type": "stream",
     "text": [
      "Please enter matrix A row-by-row as follows:\n",
      "X X X\n",
      "X X X\n",
      "X X X\n",
      "A=\n",
      "0.8 0.6 0\n",
      "-0.6 0.8 0\n",
      "0 0 1 \n",
      "A= [[ 0.8  0.6  0. ]\n",
      " [-0.6  0.8  0. ]\n",
      " [ 0.   0.   1. ]]\n"
     ]
    }
   ],
   "source": [
    "\n",
    "print(\"Please enter matrix A row-by-row as follows:\")\n",
    "print(\"X X X\\nX X X\\nX X X\")\n",
    "print(\"A=\")\n",
    "A=np.array([list(map(float, input().split())) for i in range(3)])\n",
    "print (\"A=\",A)\n",
    "\n",
    "\n",
    "        "
   ]
  },
  {
   "cell_type": "code",
   "execution_count": 33,
   "id": "9ff29815",
   "metadata": {},
   "outputs": [
    {
     "name": "stdout",
     "output_type": "stream",
     "text": [
      "A is a special orthogonal matrix\n"
     ]
    }
   ],
   "source": [
    "def check(A):\n",
    "    if np.linalg.det(A) != 0:\n",
    "        if np.allclose(np.transpose(A),np.linalg.inv(A)):\n",
    "            if np.linalg.det(A) == -1:\n",
    "                print(\"A is an orthogonal matrix\")\n",
    "            if np.linalg.det(A) == 1:\n",
    "                print(\"A is a special orthogonal matrix\")\n",
    "    if np.array_equal(np.transpose(A),A):\n",
    "        print(\"A is a symmetric matrix\")\n",
    "    if np.array_equal(np.transpose(A),-A):\n",
    "        print(\"A is a skew-symmetric matrix\")\n",
    "check(A)\n"
   ]
  },
  {
   "cell_type": "code",
   "execution_count": null,
   "id": "389dd6af",
   "metadata": {},
   "outputs": [],
   "source": []
  },
  {
   "cell_type": "code",
   "execution_count": null,
   "id": "384cf9a1",
   "metadata": {},
   "outputs": [],
   "source": []
  },
  {
   "cell_type": "code",
   "execution_count": null,
   "id": "7729af8e",
   "metadata": {},
   "outputs": [],
   "source": []
  },
  {
   "cell_type": "code",
   "execution_count": null,
   "id": "b9e0efce",
   "metadata": {},
   "outputs": [],
   "source": []
  }
 ],
 "metadata": {
  "kernelspec": {
   "display_name": "Python 3 (ipykernel)",
   "language": "python",
   "name": "python3"
  },
  "language_info": {
   "codemirror_mode": {
    "name": "ipython",
    "version": 3
   },
   "file_extension": ".py",
   "mimetype": "text/x-python",
   "name": "python",
   "nbconvert_exporter": "python",
   "pygments_lexer": "ipython3",
   "version": "3.11.4"
  }
 },
 "nbformat": 4,
 "nbformat_minor": 5
}
